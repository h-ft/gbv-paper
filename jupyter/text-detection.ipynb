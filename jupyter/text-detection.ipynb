{
 "cells": [
  {
   "cell_type": "markdown",
   "id": "82db4b6d",
   "metadata": {},
   "source": [
    "Implementation of EAST and CRAFT"
   ]
  },
  {
   "cell_type": "code",
   "execution_count": null,
   "id": "4a389f5e",
   "metadata": {},
   "outputs": [],
   "source": []
  }
 ],
 "metadata": {
  "kernelspec": {
   "display_name": "Python 3",
   "language": "python",
   "name": "python3"
  },
  "language_info": {
   "codemirror_mode": {
    "name": "ipython",
    "version": 3
   },
   "file_extension": ".py",
   "mimetype": "text/x-python",
   "name": "python",
   "nbconvert_exporter": "python",
   "pygments_lexer": "ipython3",
   "version": "3.8.0"
  }
 },
 "nbformat": 4,
 "nbformat_minor": 5
}
