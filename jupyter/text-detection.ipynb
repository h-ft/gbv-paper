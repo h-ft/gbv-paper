{
 "cells": [
  {
   "cell_type": "markdown",
   "id": "82db4b6d",
   "metadata": {},
   "source": [
    "Implementation of EAST and CRAFT using Python. This code is part of the paper \"Text Detection in Natural Scene Images using CRAFT and EAST\" by Henry Febrian for the module Computer Graphics and Image Processing by Prof. Erik Rodner."
   ]
  },
  {
   "cell_type": "markdown",
   "id": "b72fc215",
   "metadata": {},
   "source": [
    "1. Imports. The corresponding files are already available in the 'bvlecture' environment, excluding imutils. It can be installed using 'pip install imutils'."
   ]
  },
  {
   "cell_type": "code",
   "execution_count": 1,
   "id": "4a389f5e",
   "metadata": {},
   "outputs": [],
   "source": [
    "import os, sys\n",
    "import numpy as np\n",
    "import cv2\n",
    "import time\n",
    "from imutils.object_detection import non_max_suppression"
   ]
  },
  {
   "cell_type": "markdown",
   "id": "cc8df780",
   "metadata": {},
   "source": [
    "Function for EAST detection"
   ]
  },
  {
   "cell_type": "code",
   "execution_count": null,
   "id": "28344d9b",
   "metadata": {},
   "outputs": [],
   "source": [
    "def east(img):\n",
    "    image = img.copy # Storing the original image to be used later\n",
    "    \n",
    "    # The image will need to be 'prepped' before being passed into EAST"
   ]
  }
 ],
 "metadata": {
  "kernelspec": {
   "display_name": "Python 3",
   "language": "python",
   "name": "python3"
  },
  "language_info": {
   "codemirror_mode": {
    "name": "ipython",
    "version": 3
   },
   "file_extension": ".py",
   "mimetype": "text/x-python",
   "name": "python",
   "nbconvert_exporter": "python",
   "pygments_lexer": "ipython3",
   "version": "3.8.0"
  }
 },
 "nbformat": 4,
 "nbformat_minor": 5
}
